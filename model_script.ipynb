{
  "nbformat": 4,
  "nbformat_minor": 0,
  "metadata": {
    "colab": {
      "provenance": [],
      "authorship_tag": "ABX9TyNyaFA/3c0/RdrTCC1XAdPx"
    },
    "kernelspec": {
      "name": "python3",
      "display_name": "Python 3"
    },
    "language_info": {
      "name": "python"
    }
  },
  "cells": [
    {
      "cell_type": "markdown",
      "source": [
        "# Нейросеть для распознованияч рускописных цифр (на основе MNIST)"
      ],
      "metadata": {
        "id": "k3y9O1p3ZrZf"
      }
    },
    {
      "cell_type": "code",
      "execution_count": 1,
      "metadata": {
        "id": "T8HiSnoeqAgf"
      },
      "outputs": [],
      "source": [
        "import torch"
      ]
    },
    {
      "cell_type": "code",
      "source": [
        "import torch.nn as nn\n",
        "import torchvision as tv\n",
        "import numpy as np\n",
        "import matplotlib.pyplot as plt\n",
        "import cv2\n",
        "import os\n",
        "from tqdm import tqdm\n",
        "import torch.nn.functional as F"
      ],
      "metadata": {
        "id": "avruhjucqFcv"
      },
      "execution_count": 2,
      "outputs": []
    },
    {
      "cell_type": "markdown",
      "source": [
        "### Подготовка данных"
      ],
      "metadata": {
        "id": "IkM7M9goaVtJ"
      }
    },
    {
      "cell_type": "code",
      "source": [
        "trans = tv.transforms.Compose([tv.transforms.ToTensor()])"
      ],
      "metadata": {
        "id": "DpwJrPCwu77W"
      },
      "execution_count": 50,
      "outputs": []
    },
    {
      "cell_type": "code",
      "source": [
        "ds_mnist = tv.datasets.MNIST('./datasets', download=True, transform=trans)"
      ],
      "metadata": {
        "id": "CK8M17sktd9M"
      },
      "execution_count": 51,
      "outputs": []
    },
    {
      "cell_type": "code",
      "source": [
        "batch_size = 16\n",
        "dataloader = torch.utils.data.DataLoader(\n",
        "    ds_mnist, batch_size=batch_size, shuffle=True,\n",
        "    num_workers=1, drop_last=True\n",
        ")"
      ],
      "metadata": {
        "id": "f0l-EOa6uTfC"
      },
      "execution_count": 52,
      "outputs": []
    },
    {
      "cell_type": "markdown",
      "source": [
        "### Создание класса для модели"
      ],
      "metadata": {
        "id": "Wnnlass7afQa"
      }
    },
    {
      "cell_type": "code",
      "source": [
        "\n",
        "class Neural_numbers(nn.Module):\n",
        "  def __init__(self):\n",
        "    super().__init__()\n",
        "\n",
        "    flat = nn.Flatten()\n",
        "    linear1 = nn.Linear(28*28, 100)\n",
        "    linear2 = nn.Linear(100, 10)\n",
        "\n",
        "    act = nn.ReLU()\n",
        "\n",
        "    self.model = nn.Sequential(flat, linear1, act, linear2)\n",
        "\n",
        "  def forward(self, x):\n",
        "    return self.model(x)"
      ],
      "metadata": {
        "id": "OYyx4K18xT1r"
      },
      "execution_count": 53,
      "outputs": []
    },
    {
      "cell_type": "code",
      "source": [
        "model = Neural_numbers()"
      ],
      "metadata": {
        "id": "xaGBFS7Q3Xlj"
      },
      "execution_count": 54,
      "outputs": []
    },
    {
      "cell_type": "code",
      "source": [
        "loss_fn = nn.CrossEntropyLoss()"
      ],
      "metadata": {
        "id": "hScvFJEcyCvm"
      },
      "execution_count": 55,
      "outputs": []
    },
    {
      "cell_type": "code",
      "source": [
        "optimizer = torch.optim.SGD(model.parameters(), lr=1e-3, momentum=0.9)"
      ],
      "metadata": {
        "id": "K-Uk22st3NhF"
      },
      "execution_count": 56,
      "outputs": []
    },
    {
      "cell_type": "code",
      "source": [
        "def accuracy(pred, label):\n",
        "  answer = F.softmax(pred.detach()).numpy().argmax(1) == label.numpy().argmax(1)\n",
        "  return answer.mean()"
      ],
      "metadata": {
        "id": "WB-3KYcHAh_J"
      },
      "execution_count": 57,
      "outputs": []
    },
    {
      "cell_type": "markdown",
      "source": [
        "### Обучение модели"
      ],
      "metadata": {
        "id": "lX0wPN5Oap9Y"
      }
    },
    {
      "cell_type": "code",
      "source": [
        "epochs = 3\n",
        "\n",
        "for epoch in range(epochs):\n",
        "  loss_val = 0\n",
        "  acc_val = 0\n",
        "  for img, label in (pbar := tqdm(dataloader)):\n",
        "    optimizer.zero_grad()\n",
        "\n",
        "    label = F.one_hot(label, 10).float()\n",
        "    pred = model(img)\n",
        "\n",
        "    loss = loss_fn(pred, label)\n",
        "    loss_item = loss.item()\n",
        "    loss_val += loss_item\n",
        "\n",
        "    loss.backward()\n",
        "\n",
        "    optimizer.step()\n",
        "\n",
        "    acc_current = accuracy(pred, label)\n",
        "    acc_val += acc_current\n",
        "    pbar.set_description(f'loss: {loss_item:.4f}\\t accuracy: {acc_current:.3f}')\n",
        "  print(loss_val / len(dataloader))\n",
        "  print(acc_val / len(dataloader))"
      ],
      "metadata": {
        "colab": {
          "base_uri": "https://localhost:8080/"
        },
        "id": "YKmJ1KUA3q0C",
        "outputId": "c5e8c865-317e-4874-bc60-473481dd7b98"
      },
      "execution_count": 58,
      "outputs": [
        {
          "output_type": "stream",
          "name": "stderr",
          "text": [
            "  0%|          | 0/3750 [00:00<?, ?it/s]<ipython-input-57-0dbe26ece616>:2: UserWarning: Implicit dimension choice for softmax has been deprecated. Change the call to include dim=X as an argument.\n",
            "  answer = F.softmax(pred.detach()).numpy().argmax(1) == label.numpy().argmax(1)\n",
            "loss: 0.3315\t accuracy: 0.875: 100%|██████████| 3750/3750 [00:53<00:00, 70.69it/s]\n"
          ]
        },
        {
          "output_type": "stream",
          "name": "stdout",
          "text": [
            "0.6379576313048602\n",
            "0.8437\n"
          ]
        },
        {
          "output_type": "stream",
          "name": "stderr",
          "text": [
            "loss: 0.1561\t accuracy: 0.938: 100%|██████████| 3750/3750 [00:48<00:00, 77.05it/s]\n"
          ]
        },
        {
          "output_type": "stream",
          "name": "stdout",
          "text": [
            "0.3109747587834795\n",
            "0.9112833333333333\n"
          ]
        },
        {
          "output_type": "stream",
          "name": "stderr",
          "text": [
            "loss: 0.1201\t accuracy: 0.938: 100%|██████████| 3750/3750 [00:50<00:00, 74.54it/s]"
          ]
        },
        {
          "output_type": "stream",
          "name": "stdout",
          "text": [
            "0.26117401290585596\n",
            "0.9258666666666666\n"
          ]
        },
        {
          "output_type": "stream",
          "name": "stderr",
          "text": [
            "\n"
          ]
        }
      ]
    },
    {
      "cell_type": "markdown",
      "source": [
        "Проверка работы обученной нейросети:"
      ],
      "metadata": {
        "id": "I6KF1WlFaurv"
      }
    },
    {
      "cell_type": "code",
      "source": [
        "with torch.no_grad():\n",
        "  y = model(ds_mnist[21][0])\n",
        "print(f'Result: {y.argmax().item()}')\n",
        "print('Image:')\n",
        "plt.imshow(ds_mnist[21][0].numpy()[0])"
      ],
      "metadata": {
        "colab": {
          "base_uri": "https://localhost:8080/",
          "height": 482
        },
        "id": "5iXNQ5768iO4",
        "outputId": "44cb3659-c871-4ee8-a7cf-41683aceefab"
      },
      "execution_count": 63,
      "outputs": [
        {
          "output_type": "stream",
          "name": "stdout",
          "text": [
            "Result: 0\n",
            "Image:\n"
          ]
        },
        {
          "output_type": "execute_result",
          "data": {
            "text/plain": [
              "<matplotlib.image.AxesImage at 0x79f50679b070>"
            ]
          },
          "metadata": {},
          "execution_count": 63
        },
        {
          "output_type": "display_data",
          "data": {
            "text/plain": [
              "<Figure size 640x480 with 1 Axes>"
            ],
            "image/png": "[encoded data removed]"
          },
          "metadata": {}
        }
      ]
    },
    {
      "cell_type": "markdown",
      "source": [
        "### Трассировка и сохранение получившейся модели на TorchScript"
      ],
      "metadata": {
        "id": "1NirhwsbZoOt"
      }
    },
    {
      "cell_type": "code",
      "source": [
        "sample = torch.randint(low=0, high=255, size=(1, 28, 28), dtype=torch.float32)\n",
        "model_scr1 = torch.jit.trace(model, sample)\n",
        "model_scr1.save('mnist.pth')"
      ],
      "metadata": {
        "id": "VbE6w8wDD_2s"
      },
      "execution_count": 64,
      "outputs": []
    },
    {
      "cell_type": "markdown",
      "source": [
        "### Проверка работы сохраненной модели"
      ],
      "metadata": {
        "id": "Iry9C2jTb-z-"
      }
    },
    {
      "cell_type": "code",
      "source": [
        "model_scr = torch.jit.load('mnist.pth')"
      ],
      "metadata": {
        "id": "YDdD4dkOOSfG"
      },
      "execution_count": 66,
      "outputs": []
    },
    {
      "cell_type": "code",
      "source": [
        "with torch.no_grad():\n",
        "  y = model_scr(ds_mnist[21][0])\n",
        "print(f'Result: {y.argmax().item()}')"
      ],
      "metadata": {
        "colab": {
          "base_uri": "https://localhost:8080/"
        },
        "id": "dF_OnT4FOmEl",
        "outputId": "123f0630-6cc6-455c-d9c4-2f46474dd294"
      },
      "execution_count": 67,
      "outputs": [
        {
          "output_type": "stream",
          "name": "stdout",
          "text": [
            "Result: 0\n"
          ]
        }
      ]
    }
  ]
}